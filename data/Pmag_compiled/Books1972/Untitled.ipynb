{
 "cells": [
  {
   "cell_type": "code",
   "execution_count": 1,
   "metadata": {
    "collapsed": true
   },
   "outputs": [],
   "source": [
    "import pmagpy.ipmag as ipmag\n",
    "import pmagpy.pmag as pmag\n",
    "import pmagpy.pmagplotlib as pmagplotlib\n",
    "\n",
    "import pandas as pd\n",
    "import numpy as np"
   ]
  },
  {
   "cell_type": "code",
   "execution_count": 2,
   "metadata": {
    "collapsed": true
   },
   "outputs": [],
   "source": [
    "Books1972 = pd.read_csv('./sites.csv', skiprows=1)"
   ]
  },
  {
   "cell_type": "code",
   "execution_count": 3,
   "metadata": {
    "collapsed": false
   },
   "outputs": [],
   "source": [
    "ipmag.vgp_calc(Books1972, site_lon='lon', site_lat='lat', dec_tc='dir_dec', inc_tc='dir_inc')"
   ]
  },
  {
   "cell_type": "code",
   "execution_count": 4,
   "metadata": {
    "collapsed": false
   },
   "outputs": [],
   "source": [
    "Books1972.to_csv('./Books1972_vgps.csv')"
   ]
  },
  {
   "cell_type": "code",
   "execution_count": 9,
   "metadata": {
    "collapsed": false
   },
   "outputs": [
    {
     "name": "stdout",
     "output_type": "stream",
     "text": [
      "MK243 : MK244 : MK245 : MK246 : MK247 : MK248 : MK249 : MK250 : MK251 : \n"
     ]
    }
   ],
   "source": [
    "site_list = ''\n",
    "lon_list = []\n",
    "lat_list = []\n",
    "for site in Books1972.ix[Books1972['location']=='Isle Royale:Michigan'].site.tolist():\n",
    "    site_list += site + ' : '\n",
    "    lat_list.append(Books1972.ix[Books1972['site']==site].lat.tolist()[0])\n",
    "    lon_list.append(Books1972.ix[Books1972['site']==site].lon.tolist()[0])\n",
    "print site_list"
   ]
  },
  {
   "cell_type": "code",
   "execution_count": 10,
   "metadata": {
    "collapsed": false,
    "scrolled": false
   },
   "outputs": [
    {
     "name": "stdout",
     "output_type": "stream",
     "text": [
      "47.88567502\n",
      "47.8947213\n"
     ]
    }
   ],
   "source": [
    "print min(lat_list)\n",
    "print max(lat_list)"
   ]
  },
  {
   "cell_type": "code",
   "execution_count": 11,
   "metadata": {
    "collapsed": false
   },
   "outputs": [
    {
     "name": "stdout",
     "output_type": "stream",
     "text": [
      "-89.21534223\n",
      "-89.19391462\n"
     ]
    }
   ],
   "source": [
    "print min(lon_list)\n",
    "print max(lon_list)"
   ]
  },
  {
   "cell_type": "code",
   "execution_count": 8,
   "metadata": {
    "collapsed": false
   },
   "outputs": [
    {
     "data": {
      "text/plain": [
       "array(['Basalt', 'Andesite', 'Rhyolite'], dtype=object)"
      ]
     },
     "execution_count": 8,
     "metadata": {},
     "output_type": "execute_result"
    }
   ],
   "source": [
    "Books1972.ix[Books1972['location']=='North Shore Volcanic Group:Minnesota'].lithologies.unique()"
   ]
  },
  {
   "cell_type": "code",
   "execution_count": null,
   "metadata": {
    "collapsed": true
   },
   "outputs": [],
   "source": []
  }
 ],
 "metadata": {
  "hide_input": false,
  "kernelspec": {
   "display_name": "Python 2",
   "language": "python",
   "name": "python2"
  },
  "language_info": {
   "codemirror_mode": {
    "name": "ipython",
    "version": 2
   },
   "file_extension": ".py",
   "mimetype": "text/x-python",
   "name": "python",
   "nbconvert_exporter": "python",
   "pygments_lexer": "ipython2",
   "version": "2.7.13"
  }
 },
 "nbformat": 4,
 "nbformat_minor": 2
}
