{
 "cells": [
  {
   "cell_type": "markdown",
   "metadata": {},
   "source": [
    "# Notebook for areal and volume extent calculation and compilation for the BRD and GSF"
   ]
  },
  {
   "cell_type": "code",
   "execution_count": 1,
   "metadata": {},
   "outputs": [],
   "source": [
    "import pandas as pd\n",
    "import numpy as np\n",
    "import seaborn as sns\n",
    "import matplotlib.pyplot as plt\n",
    "import matplotlib.patches as mpatches\n",
    "\n",
    "%matplotlib inline \n",
    "%config InlineBackend.figure_format='retina'"
   ]
  },
  {
   "cell_type": "markdown",
   "metadata": {},
   "source": [
    "## plot the estimated volume of the GSF in context of Bryan (2010) compilation\n",
    "\n",
    "Although Bryan et al., (2010) estimate that the Mahabaleshwar–Rajahmundry Traps has a volume of 9300 km$^3$, Self et al., (2008), the paper that Bryan et al., (2010) cites for this estimate gives a rather broad range for the volume of this traps (2000 - 9000 km$^3$). We decide to use a conservative volume estimate of 5000 km$^3$ for the Mahabaleshwar–Rajahmundry Traps suggested by Self et al., (2008). \n",
    "\n",
    "- Bryan, S. E., Peate, I. U., Peate, D. W., Self, S., Jerram, D. A., Mawby, M. R., ... & Miller, J. A. (2010). The largest volcanic eruptions on Earth. Earth-Science Reviews, 102(3-4), 207-229.\n",
    "- Self, S., Jay, A. E., Widdowson, M., & Keszthelyi, L. P. (2008). Correlation of the Deccan and Rajahmundry Trap lavas: Are these the longest and largest lava flows on Earth?. Journal of Volcanology and Geothermal Research, 172(1-2), 3-19."
   ]
  },
  {
   "cell_type": "code",
   "execution_count": 2,
   "metadata": {},
   "outputs": [
    {
     "data": {
      "text/html": [
       "<div>\n",
       "<style scoped>\n",
       "    .dataframe tbody tr th:only-of-type {\n",
       "        vertical-align: middle;\n",
       "    }\n",
       "\n",
       "    .dataframe tbody tr th {\n",
       "        vertical-align: top;\n",
       "    }\n",
       "\n",
       "    .dataframe thead th {\n",
       "        text-align: right;\n",
       "    }\n",
       "</style>\n",
       "<table border=\"1\" class=\"dataframe\">\n",
       "  <thead>\n",
       "    <tr style=\"text-align: right;\">\n",
       "      <th></th>\n",
       "      <th>Eruptive Unit</th>\n",
       "      <th>Lava Flow Name</th>\n",
       "      <th>LIP</th>\n",
       "      <th>Eruptive Age (Ma)</th>\n",
       "      <th>Minimum Eruptive Volume (km3)</th>\n",
       "      <th>Lithology and Thickness</th>\n",
       "      <th>Magnitude</th>\n",
       "      <th>Composition (wt.% SiO2)</th>\n",
       "      <th>References</th>\n",
       "      <th>Color</th>\n",
       "    </tr>\n",
       "  </thead>\n",
       "  <tbody>\n",
       "    <tr>\n",
       "      <th>0</th>\n",
       "      <td>Mahabaleshwar–Rajahmundry Traps (Upper)</td>\n",
       "      <td>M-R Traps</td>\n",
       "      <td>Deccan</td>\n",
       "      <td>64.8</td>\n",
       "      <td>5000</td>\n",
       "      <td>Basalt lava (20–50)</td>\n",
       "      <td>9.40</td>\n",
       "      <td>High-Ti tholeiitic Basalt (48.1)</td>\n",
       "      <td>Self et al. (2008)</td>\n",
       "      <td>C1</td>\n",
       "    </tr>\n",
       "    <tr>\n",
       "      <th>1</th>\n",
       "      <td>McCoy Canyon flow (Sentinel Bluffs Member, Gra...</td>\n",
       "      <td>McCoy Canyon flow</td>\n",
       "      <td>Columbia River</td>\n",
       "      <td>15.6</td>\n",
       "      <td>4078</td>\n",
       "      <td>Basalt lava (10–60)</td>\n",
       "      <td>9.06</td>\n",
       "      <td>Tholeiitic Basalt (53.6)</td>\n",
       "      <td>Reidel (2005); Landon and Long (1989)</td>\n",
       "      <td>C0</td>\n",
       "    </tr>\n",
       "    <tr>\n",
       "      <th>2</th>\n",
       "      <td>Umtanum flow (Grande Ronde N2)</td>\n",
       "      <td>Umtanum flow</td>\n",
       "      <td>Columbia River</td>\n",
       "      <td>15.6</td>\n",
       "      <td>2750</td>\n",
       "      <td>Basalt lava (~ 50)</td>\n",
       "      <td>8.87</td>\n",
       "      <td>Tholeiitic Basalt (54.7)</td>\n",
       "      <td>Reidel et al. (1989)</td>\n",
       "      <td>C0</td>\n",
       "    </tr>\n",
       "    <tr>\n",
       "      <th>3</th>\n",
       "      <td>Sand Hollow flow (Frenchmans Springs member, W...</td>\n",
       "      <td>Sand Hollow flow</td>\n",
       "      <td>Columbia River</td>\n",
       "      <td>15.3</td>\n",
       "      <td>2660</td>\n",
       "      <td>Basalt lava (~ 40)</td>\n",
       "      <td>8.86</td>\n",
       "      <td>Tholeiitic Basalt (51.8)</td>\n",
       "      <td>Beeson et al. (1985) Tolan et al. (1989)</td>\n",
       "      <td>C0</td>\n",
       "    </tr>\n",
       "    <tr>\n",
       "      <th>4</th>\n",
       "      <td>Pruitt Draw flow (Teepee Butte Member, Grande ...</td>\n",
       "      <td>Pruitt Draw flow</td>\n",
       "      <td>Columbia River</td>\n",
       "      <td>16.5</td>\n",
       "      <td>2350</td>\n",
       "      <td>Basalt Lava (30–100)</td>\n",
       "      <td>8.80</td>\n",
       "      <td>Tholeiitic Basalt (53.0)</td>\n",
       "      <td>Reidel and Tolan (1992); Reidel (1983)</td>\n",
       "      <td>C0</td>\n",
       "    </tr>\n",
       "  </tbody>\n",
       "</table>\n",
       "</div>"
      ],
      "text/plain": [
       "                                       Eruptive Unit     Lava Flow Name  \\\n",
       "0            Mahabaleshwar–Rajahmundry Traps (Upper)          M-R Traps   \n",
       "1  McCoy Canyon flow (Sentinel Bluffs Member, Gra...  McCoy Canyon flow   \n",
       "2                     Umtanum flow (Grande Ronde N2)       Umtanum flow   \n",
       "3  Sand Hollow flow (Frenchmans Springs member, W...   Sand Hollow flow   \n",
       "4  Pruitt Draw flow (Teepee Butte Member, Grande ...   Pruitt Draw flow   \n",
       "\n",
       "              LIP  Eruptive Age (Ma)  Minimum Eruptive Volume (km3)  \\\n",
       "0          Deccan               64.8                           5000   \n",
       "1  Columbia River               15.6                           4078   \n",
       "2  Columbia River               15.6                           2750   \n",
       "3  Columbia River               15.3                           2660   \n",
       "4  Columbia River               16.5                           2350   \n",
       "\n",
       "  Lithology and Thickness  Magnitude           Composition (wt.% SiO2)  \\\n",
       "0    Basalt lava (20–50)        9.40  High-Ti tholeiitic Basalt (48.1)   \n",
       "1    Basalt lava (10–60)        9.06         Tholeiitic Basalt (53.6)    \n",
       "2     Basalt lava (~ 50)        8.87         Tholeiitic Basalt (54.7)    \n",
       "3     Basalt lava (~ 40)        8.86         Tholeiitic Basalt (51.8)    \n",
       "4   Basalt Lava (30–100)        8.80         Tholeiitic Basalt (53.0)    \n",
       "\n",
       "                                  References Color  \n",
       "0                        Self et al. (2008)     C1  \n",
       "1     Reidel (2005); Landon and Long (1989)     C0  \n",
       "2                      Reidel et al. (1989)     C0  \n",
       "3  Beeson et al. (1985) Tolan et al. (1989)     C0  \n",
       "4    Reidel and Tolan (1992); Reidel (1983)     C0  "
      ]
     },
     "execution_count": 2,
     "metadata": {},
     "output_type": "execute_result"
    }
   ],
   "source": [
    "Bryan2010_compilation = pd.read_csv('../data/GIS/Largest_lava_compilation.csv')\n",
    "Bryan2010_compilation = Bryan2010_compilation.sort_values(by='Minimum Eruptive Volume (km3)', ignore_index=True, ascending=False)\n",
    "Bryan2010_compilation = Bryan2010_compilation.loc[:10]\n",
    "Bryan2010_compilation.head()"
   ]
  },
  {
   "cell_type": "code",
   "execution_count": 3,
   "metadata": {},
   "outputs": [
    {
     "data": {
      "text/plain": [
       "Index(['Eruptive Unit', 'Lava Flow Name', 'LIP', 'Eruptive Age (Ma)',\n",
       "       'Minimum Eruptive Volume (km3)', 'Lithology and Thickness', 'Magnitude',\n",
       "       'Composition (wt.% SiO2)', 'References', 'Color'],\n",
       "      dtype='object')"
      ]
     },
     "execution_count": 3,
     "metadata": {},
     "output_type": "execute_result"
    }
   ],
   "source": [
    "Bryan2010_compilation.columns"
   ]
  },
  {
   "cell_type": "code",
   "execution_count": 12,
   "metadata": {},
   "outputs": [
    {
     "data": {
      "image/png": "[encoded data removed]",
      "text/plain": [
       "<Figure size 576x288 with 1 Axes>"
      ]
     },
     "metadata": {
      "image/png": {
       "height": 328,
       "width": 509
      },
      "needs_background": "light"
     },
     "output_type": "display_data"
    }
   ],
   "source": [
    "fig, ax = plt.subplots(figsize=(8,4))\n",
    "ax.bar(x=Bryan2010_compilation['Lava Flow Name'], height=Bryan2010_compilation['Minimum Eruptive Volume (km3)'], color = Bryan2010_compilation['Color'])\n",
    "\n",
    "# ax = sns.barplot(x='Lava Flow Name', y='Minimum Eruptive Volume (km3)', hue='LIP',  palette = ['C0', 'C2', 'C1'], data=Bryan2010_compilation)\n",
    "plt.xticks(rotation=45, ha=\"right\")\n",
    "plt.xlabel('Lava Flow Name')\n",
    "plt.ylabel('Estimated Lava Flow Volume ($km^3$)')\n",
    "C0_patch = mpatches.Patch(color='C0', label='Columbia River Basalt Group')\n",
    "C1_patch = mpatches.Patch(color='C1', label='Deccan Traps')\n",
    "C2_patch = mpatches.Patch(color='C2', label='Greenstone Flow (Midcontinent Rift)')\n",
    "\n",
    "plt.ylim(0, 6200)\n",
    "plt.legend(handles=[C0_patch, C1_patch, C2_patch], loc= 9, title='LIP')\n",
    "plt.savefig('code_output/Lava_flow_rank.pdf', bbox_inches='tight')\n",
    "plt.show()"
   ]
  },
  {
   "cell_type": "markdown",
   "metadata": {},
   "source": [
    "## calculate the total area and volume of the BBC"
   ]
  },
  {
   "cell_type": "code",
   "execution_count": 8,
   "metadata": {},
   "outputs": [
    {
     "data": {
      "text/html": [
       "<div>\n",
       "<style scoped>\n",
       "    .dataframe tbody tr th:only-of-type {\n",
       "        vertical-align: middle;\n",
       "    }\n",
       "\n",
       "    .dataframe tbody tr th {\n",
       "        vertical-align: top;\n",
       "    }\n",
       "\n",
       "    .dataframe thead th {\n",
       "        text-align: right;\n",
       "    }\n",
       "</style>\n",
       "<table border=\"1\" class=\"dataframe\">\n",
       "  <thead>\n",
       "    <tr style=\"text-align: right;\">\n",
       "      <th></th>\n",
       "      <th>wkt_geom</th>\n",
       "      <th>AREA</th>\n",
       "      <th>PERIMETER</th>\n",
       "      <th>TYPE</th>\n",
       "      <th>GCM_CODE</th>\n",
       "      <th>GEOC_SRC</th>\n",
       "      <th>GEOC_DATE</th>\n",
       "      <th>UTME</th>\n",
       "      <th>UTMN</th>\n",
       "      <th>UTM_ZONE</th>\n",
       "      <th>MAPLABEL</th>\n",
       "      <th>DESCRIPTN</th>\n",
       "      <th>UNIT_NAME</th>\n",
       "      <th>TERRANE</th>\n",
       "      <th>ERA</th>\n",
       "      <th>SUBDIV</th>\n",
       "      <th>area</th>\n",
       "    </tr>\n",
       "  </thead>\n",
       "  <tbody>\n",
       "    <tr>\n",
       "      <th>0</th>\n",
       "      <td>MultiPolygon (((682376.61237743694800884 52885...</td>\n",
       "      <td>3.295540e+07</td>\n",
       "      <td>150332.403377</td>\n",
       "      <td>BG</td>\n",
       "      <td>AB</td>\n",
       "      <td>MGS</td>\n",
       "      <td>20101215</td>\n",
       "      <td>671075</td>\n",
       "      <td>5285359</td>\n",
       "      <td>15</td>\n",
       "      <td>Mbd</td>\n",
       "      <td>Diabase, ferrodiorite</td>\n",
       "      <td>Beaver River diabase</td>\n",
       "      <td>Beaver Bay Complex, other intrusions</td>\n",
       "      <td>Mesoproterozoic</td>\n",
       "      <td>Midcontinent Rift Intrusive Supersuite</td>\n",
       "      <td>3.295877e+07</td>\n",
       "    </tr>\n",
       "    <tr>\n",
       "      <th>1</th>\n",
       "      <td>MultiPolygon (((675838.23906702187377959 52838...</td>\n",
       "      <td>4.905721e+05</td>\n",
       "      <td>3276.146794</td>\n",
       "      <td>BG</td>\n",
       "      <td>AB</td>\n",
       "      <td>MGS</td>\n",
       "      <td>20101215</td>\n",
       "      <td>675259</td>\n",
       "      <td>5283730</td>\n",
       "      <td>15</td>\n",
       "      <td>Mbd</td>\n",
       "      <td>Diabase, ferrodiorite</td>\n",
       "      <td>Beaver River diabase</td>\n",
       "      <td>Beaver Bay Complex, other intrusions</td>\n",
       "      <td>Mesoproterozoic</td>\n",
       "      <td>Midcontinent Rift Intrusive Supersuite</td>\n",
       "      <td>4.905914e+05</td>\n",
       "    </tr>\n",
       "    <tr>\n",
       "      <th>2</th>\n",
       "      <td>MultiPolygon (((666473.22997318615671247 52836...</td>\n",
       "      <td>3.551048e+05</td>\n",
       "      <td>3018.732097</td>\n",
       "      <td>BG</td>\n",
       "      <td>AB</td>\n",
       "      <td>MGS</td>\n",
       "      <td>20101215</td>\n",
       "      <td>666163</td>\n",
       "      <td>5284121</td>\n",
       "      <td>15</td>\n",
       "      <td>Mbd</td>\n",
       "      <td>Diabase, ferrodiorite</td>\n",
       "      <td>Beaver River diabase</td>\n",
       "      <td>Beaver Bay Complex, other intrusions</td>\n",
       "      <td>Mesoproterozoic</td>\n",
       "      <td>Midcontinent Rift Intrusive Supersuite</td>\n",
       "      <td>3.551476e+05</td>\n",
       "    </tr>\n",
       "    <tr>\n",
       "      <th>3</th>\n",
       "      <td>MultiPolygon (((674047.14085028087720275 52833...</td>\n",
       "      <td>3.161627e+07</td>\n",
       "      <td>64957.046891</td>\n",
       "      <td>BG</td>\n",
       "      <td>AB</td>\n",
       "      <td>MGS</td>\n",
       "      <td>20101215</td>\n",
       "      <td>666504</td>\n",
       "      <td>5281437</td>\n",
       "      <td>15</td>\n",
       "      <td>Mbd</td>\n",
       "      <td>Diabase, ferrodiorite</td>\n",
       "      <td>Beaver River diabase</td>\n",
       "      <td>Beaver Bay Complex, other intrusions</td>\n",
       "      <td>Mesoproterozoic</td>\n",
       "      <td>Midcontinent Rift Intrusive Supersuite</td>\n",
       "      <td>3.162012e+07</td>\n",
       "    </tr>\n",
       "    <tr>\n",
       "      <th>4</th>\n",
       "      <td>MultiPolygon (((674061.04481395927723497 52833...</td>\n",
       "      <td>1.113994e+05</td>\n",
       "      <td>1468.521960</td>\n",
       "      <td>BG</td>\n",
       "      <td>AB</td>\n",
       "      <td>MGS</td>\n",
       "      <td>20101215</td>\n",
       "      <td>674055</td>\n",
       "      <td>5283105</td>\n",
       "      <td>15</td>\n",
       "      <td>Mbd</td>\n",
       "      <td>Diabase, ferrodiorite</td>\n",
       "      <td>Beaver River diabase</td>\n",
       "      <td>Beaver Bay Complex, other intrusions</td>\n",
       "      <td>Mesoproterozoic</td>\n",
       "      <td>Midcontinent Rift Intrusive Supersuite</td>\n",
       "      <td>1.114055e+05</td>\n",
       "    </tr>\n",
       "  </tbody>\n",
       "</table>\n",
       "</div>"
      ],
      "text/plain": [
       "                                            wkt_geom          AREA  \\\n",
       "0  MultiPolygon (((682376.61237743694800884 52885...  3.295540e+07   \n",
       "1  MultiPolygon (((675838.23906702187377959 52838...  4.905721e+05   \n",
       "2  MultiPolygon (((666473.22997318615671247 52836...  3.551048e+05   \n",
       "3  MultiPolygon (((674047.14085028087720275 52833...  3.161627e+07   \n",
       "4  MultiPolygon (((674061.04481395927723497 52833...  1.113994e+05   \n",
       "\n",
       "       PERIMETER TYPE GCM_CODE GEOC_SRC  GEOC_DATE    UTME     UTMN  UTM_ZONE  \\\n",
       "0  150332.403377   BG       AB      MGS   20101215  671075  5285359        15   \n",
       "1    3276.146794   BG       AB      MGS   20101215  675259  5283730        15   \n",
       "2    3018.732097   BG       AB      MGS   20101215  666163  5284121        15   \n",
       "3   64957.046891   BG       AB      MGS   20101215  666504  5281437        15   \n",
       "4    1468.521960   BG       AB      MGS   20101215  674055  5283105        15   \n",
       "\n",
       "  MAPLABEL              DESCRIPTN             UNIT_NAME  \\\n",
       "0      Mbd  Diabase, ferrodiorite  Beaver River diabase   \n",
       "1      Mbd  Diabase, ferrodiorite  Beaver River diabase   \n",
       "2      Mbd  Diabase, ferrodiorite  Beaver River diabase   \n",
       "3      Mbd  Diabase, ferrodiorite  Beaver River diabase   \n",
       "4      Mbd  Diabase, ferrodiorite  Beaver River diabase   \n",
       "\n",
       "                                TERRANE              ERA  \\\n",
       "0  Beaver Bay Complex, other intrusions  Mesoproterozoic   \n",
       "1  Beaver Bay Complex, other intrusions  Mesoproterozoic   \n",
       "2  Beaver Bay Complex, other intrusions  Mesoproterozoic   \n",
       "3  Beaver Bay Complex, other intrusions  Mesoproterozoic   \n",
       "4  Beaver Bay Complex, other intrusions  Mesoproterozoic   \n",
       "\n",
       "                                   SUBDIV          area  \n",
       "0  Midcontinent Rift Intrusive Supersuite  3.295877e+07  \n",
       "1  Midcontinent Rift Intrusive Supersuite  4.905914e+05  \n",
       "2  Midcontinent Rift Intrusive Supersuite  3.551476e+05  \n",
       "3  Midcontinent Rift Intrusive Supersuite  3.162012e+07  \n",
       "4  Midcontinent Rift Intrusive Supersuite  1.114055e+05  "
      ]
     },
     "execution_count": 8,
     "metadata": {},
     "output_type": "execute_result"
    }
   ],
   "source": [
    "BBC_polygons = pd.read_excel('../data/GIS/BBC_area_calc.xlsx', engine='openpyxl')\n",
    "BBC_polygons.head()"
   ]
  },
  {
   "cell_type": "code",
   "execution_count": 9,
   "metadata": {},
   "outputs": [
    {
     "name": "stdout",
     "output_type": "stream",
     "text": [
      "Beaver Bay Complex total mapped area is: 1036.2 km^2\n"
     ]
    }
   ],
   "source": [
    "BBC_area_km = BBC_polygons['area'].sum()/1000000\n",
    "print('Beaver Bay Complex total mapped area is:', round(BBC_area_km,1), 'km^2')"
   ]
  },
  {
   "cell_type": "markdown",
   "metadata": {},
   "source": [
    "## calculate the total area and volume of the BRD"
   ]
  },
  {
   "cell_type": "code",
   "execution_count": 10,
   "metadata": {},
   "outputs": [
    {
     "data": {
      "text/html": [
       "<div>\n",
       "<style scoped>\n",
       "    .dataframe tbody tr th:only-of-type {\n",
       "        vertical-align: middle;\n",
       "    }\n",
       "\n",
       "    .dataframe tbody tr th {\n",
       "        vertical-align: top;\n",
       "    }\n",
       "\n",
       "    .dataframe thead th {\n",
       "        text-align: right;\n",
       "    }\n",
       "</style>\n",
       "<table border=\"1\" class=\"dataframe\">\n",
       "  <thead>\n",
       "    <tr style=\"text-align: right;\">\n",
       "      <th></th>\n",
       "      <th>AREA</th>\n",
       "      <th>PERIMETER</th>\n",
       "      <th>GEMGEOU_</th>\n",
       "      <th>GEMGEOU_ID</th>\n",
       "      <th>RELATEID</th>\n",
       "      <th>TYPE</th>\n",
       "      <th>GCM_CODE</th>\n",
       "      <th>GEOC_SRC</th>\n",
       "      <th>GEOC_DATE</th>\n",
       "      <th>UTME</th>\n",
       "      <th>...</th>\n",
       "      <th>INTRP_DATE</th>\n",
       "      <th>BASIS1</th>\n",
       "      <th>BASIS2</th>\n",
       "      <th>MGSCODE</th>\n",
       "      <th>SYMBOL</th>\n",
       "      <th>MAPLABEL</th>\n",
       "      <th>UNIT_CODE</th>\n",
       "      <th>DESCRIPTN</th>\n",
       "      <th>REFRNCE</th>\n",
       "      <th>area_1</th>\n",
       "    </tr>\n",
       "  </thead>\n",
       "  <tbody>\n",
       "    <tr>\n",
       "      <th>94</th>\n",
       "      <td>0.0</td>\n",
       "      <td>0.0</td>\n",
       "      <td>0</td>\n",
       "      <td>0</td>\n",
       "      <td>NaN</td>\n",
       "      <td>GU</td>\n",
       "      <td>AS</td>\n",
       "      <td>MGS</td>\n",
       "      <td>20000630</td>\n",
       "      <td>634050.0</td>\n",
       "      <td>...</td>\n",
       "      <td>19890000</td>\n",
       "      <td>OBS</td>\n",
       "      <td>OBI</td>\n",
       "      <td>0.0</td>\n",
       "      <td>0.0</td>\n",
       "      <td>brod</td>\n",
       "      <td>bbr</td>\n",
       "      <td>Beaver River - oph ol gabbro</td>\n",
       "      <td>NaN</td>\n",
       "      <td>77104.524</td>\n",
       "    </tr>\n",
       "    <tr>\n",
       "      <th>96</th>\n",
       "      <td>0.0</td>\n",
       "      <td>0.0</td>\n",
       "      <td>0</td>\n",
       "      <td>0</td>\n",
       "      <td>NaN</td>\n",
       "      <td>GU</td>\n",
       "      <td>AS</td>\n",
       "      <td>MGS</td>\n",
       "      <td>20000630</td>\n",
       "      <td>635571.0</td>\n",
       "      <td>...</td>\n",
       "      <td>19890000</td>\n",
       "      <td>OBS</td>\n",
       "      <td>OBI</td>\n",
       "      <td>0.0</td>\n",
       "      <td>0.0</td>\n",
       "      <td>brod</td>\n",
       "      <td>bbr</td>\n",
       "      <td>Beaver River - oph ol gabbro</td>\n",
       "      <td>NaN</td>\n",
       "      <td>57864.723</td>\n",
       "    </tr>\n",
       "    <tr>\n",
       "      <th>97</th>\n",
       "      <td>0.0</td>\n",
       "      <td>0.0</td>\n",
       "      <td>0</td>\n",
       "      <td>0</td>\n",
       "      <td>NaN</td>\n",
       "      <td>GU</td>\n",
       "      <td>AS</td>\n",
       "      <td>MGS</td>\n",
       "      <td>20000630</td>\n",
       "      <td>634426.0</td>\n",
       "      <td>...</td>\n",
       "      <td>19890000</td>\n",
       "      <td>OBI</td>\n",
       "      <td>TOP</td>\n",
       "      <td>0.0</td>\n",
       "      <td>0.0</td>\n",
       "      <td>brod</td>\n",
       "      <td>bbr</td>\n",
       "      <td>Beaver River - oph ol gabbro</td>\n",
       "      <td>NaN</td>\n",
       "      <td>4201.317</td>\n",
       "    </tr>\n",
       "    <tr>\n",
       "      <th>98</th>\n",
       "      <td>0.0</td>\n",
       "      <td>0.0</td>\n",
       "      <td>0</td>\n",
       "      <td>0</td>\n",
       "      <td>NaN</td>\n",
       "      <td>GU</td>\n",
       "      <td>AS</td>\n",
       "      <td>MGS</td>\n",
       "      <td>20000630</td>\n",
       "      <td>634000.0</td>\n",
       "      <td>...</td>\n",
       "      <td>19890000</td>\n",
       "      <td>OBI</td>\n",
       "      <td>TOP</td>\n",
       "      <td>0.0</td>\n",
       "      <td>0.0</td>\n",
       "      <td>brod</td>\n",
       "      <td>bbr</td>\n",
       "      <td>Beaver River - oph ol gabbro</td>\n",
       "      <td>NaN</td>\n",
       "      <td>79209.745</td>\n",
       "    </tr>\n",
       "    <tr>\n",
       "      <th>99</th>\n",
       "      <td>0.0</td>\n",
       "      <td>0.0</td>\n",
       "      <td>0</td>\n",
       "      <td>0</td>\n",
       "      <td>NaN</td>\n",
       "      <td>GU</td>\n",
       "      <td>AS</td>\n",
       "      <td>MGS</td>\n",
       "      <td>20000630</td>\n",
       "      <td>633542.0</td>\n",
       "      <td>...</td>\n",
       "      <td>19890000</td>\n",
       "      <td>OBI</td>\n",
       "      <td>TOP</td>\n",
       "      <td>0.0</td>\n",
       "      <td>0.0</td>\n",
       "      <td>brod</td>\n",
       "      <td>bbr</td>\n",
       "      <td>Beaver River - oph ol gabbro</td>\n",
       "      <td>NaN</td>\n",
       "      <td>133503.789</td>\n",
       "    </tr>\n",
       "  </tbody>\n",
       "</table>\n",
       "<p>5 rows × 23 columns</p>\n",
       "</div>"
      ],
      "text/plain": [
       "    AREA  PERIMETER  GEMGEOU_  GEMGEOU_ID  RELATEID TYPE GCM_CODE GEOC_SRC  \\\n",
       "94   0.0        0.0         0           0       NaN   GU       AS      MGS   \n",
       "96   0.0        0.0         0           0       NaN   GU       AS      MGS   \n",
       "97   0.0        0.0         0           0       NaN   GU       AS      MGS   \n",
       "98   0.0        0.0         0           0       NaN   GU       AS      MGS   \n",
       "99   0.0        0.0         0           0       NaN   GU       AS      MGS   \n",
       "\n",
       "    GEOC_DATE      UTME  ...  INTRP_DATE  BASIS1 BASIS2  MGSCODE SYMBOL  \\\n",
       "94   20000630  634050.0  ...    19890000     OBS    OBI      0.0    0.0   \n",
       "96   20000630  635571.0  ...    19890000     OBS    OBI      0.0    0.0   \n",
       "97   20000630  634426.0  ...    19890000     OBI    TOP      0.0    0.0   \n",
       "98   20000630  634000.0  ...    19890000     OBI    TOP      0.0    0.0   \n",
       "99   20000630  633542.0  ...    19890000     OBI    TOP      0.0    0.0   \n",
       "\n",
       "   MAPLABEL  UNIT_CODE                     DESCRIPTN REFRNCE      area_1  \n",
       "94     brod        bbr  Beaver River - oph ol gabbro     NaN   77104.524  \n",
       "96     brod        bbr  Beaver River - oph ol gabbro     NaN   57864.723  \n",
       "97     brod        bbr  Beaver River - oph ol gabbro     NaN    4201.317  \n",
       "98     brod        bbr  Beaver River - oph ol gabbro     NaN   79209.745  \n",
       "99     brod        bbr  Beaver River - oph ol gabbro     NaN  133503.789  \n",
       "\n",
       "[5 rows x 23 columns]"
      ]
     },
     "execution_count": 10,
     "metadata": {},
     "output_type": "execute_result"
    }
   ],
   "source": [
    "gemgeou = pd.read_csv('../data/GIS/gemgeou.csv')\n",
    "BRD_polygons = gemgeou[(gemgeou['MAPLABEL'] == 'brd') | (gemgeou['MAPLABEL'] == 'brod')]\n",
    "BRD_polygons.head()"
   ]
  },
  {
   "cell_type": "code",
   "execution_count": 11,
   "metadata": {},
   "outputs": [
    {
     "name": "stdout",
     "output_type": "stream",
     "text": [
      "Beaver River diabase total mapped area is: 142.6 km^2\n"
     ]
    }
   ],
   "source": [
    "BRD_area_km = BRD_polygons['area_1'].sum()/1000000\n",
    "print('Beaver River diabase total mapped area is:', round(BRD_area_km,1), 'km^2')"
   ]
  },
  {
   "cell_type": "markdown",
   "metadata": {},
   "source": [
    "## calculate the total area and volume of the GSF"
   ]
  },
  {
   "cell_type": "markdown",
   "metadata": {},
   "source": [
    "- The measured apparent thickness of the GSF on Isle Royale is 0.7 km\n",
    "- The measured apparent thickness of the GSF on Keweenaw Peninsula is 1 km\n",
    "\n",
    "- The dip angle of the GSF on Isle Royale is about 15 degrees\n",
    "\n",
    "- The dip angle of the GSF on Keweenaw Peninsul is about 25 degrees\n",
    "\n",
    "- the distance between Isle Royale and Keweenaw Peninsula is about 80 km."
   ]
  },
  {
   "cell_type": "code",
   "execution_count": 38,
   "metadata": {},
   "outputs": [],
   "source": [
    "GSF_Isle_Royale_polygons = pd.read_excel('../data/GIS/GSF_Isle_Royale_area.xlsx', engine='openpyxl')\n",
    "GSF_Keweenaw_polygons = pd.read_excel('../data/GIS/GSF_Keweenaw_area.xlsx', engine='openpyxl')"
   ]
  },
  {
   "cell_type": "code",
   "execution_count": 39,
   "metadata": {},
   "outputs": [],
   "source": [
    "GSF_Isle_Royale_area = round(GSF_Isle_Royale_polygons['AREA'].sum()/1000000, 2)\n",
    "GSF_Keweenaw_area = round(GSF_Keweenaw_polygons['AREA'].sum()/1000000, 2)"
   ]
  },
  {
   "cell_type": "code",
   "execution_count": 40,
   "metadata": {},
   "outputs": [
    {
     "name": "stdout",
     "output_type": "stream",
     "text": [
      "Isle Royale GSF total area is: 33.95 km^2\n",
      "Keweenaw GSF total area is: 70.09 km^2\n"
     ]
    }
   ],
   "source": [
    "print('Isle Royale GSF total area is:', GSF_Isle_Royale_area, 'km^2')\n",
    "print('Keweenaw GSF total area is:', GSF_Keweenaw_area, 'km^2')"
   ]
  },
  {
   "cell_type": "code",
   "execution_count": 41,
   "metadata": {},
   "outputs": [
    {
     "name": "stdout",
     "output_type": "stream",
     "text": [
      "Isle Royale GSF max thickness: 0.25\n",
      "Keweenaw GSF max thickness: 0.45\n"
     ]
    }
   ],
   "source": [
    "# GSF_thickness_IR = round(0.7*np.sin(15/180*np.pi), 2)\n",
    "# GSF_thickness_Kewee = round(1*np.sin(25/180*np.pi), 2)\n",
    "GSF_thickness_IR = 0.25 #km\n",
    "GSF_thickness_Kewee = 0.45 #km\n",
    "\n",
    "print('Isle Royale GSF max thickness:', GSF_thickness_IR)\n",
    "print('Keweenaw GSF max thickness:', GSF_thickness_Kewee)"
   ]
  },
  {
   "cell_type": "code",
   "execution_count": 42,
   "metadata": {},
   "outputs": [],
   "source": [
    "GSF_IR_ortho_area = GSF_Isle_Royale_area*np.sin(15/180*np.pi)\n",
    "GSF_Kewee_ortho_area = GSF_Keweenaw_area*np.sin(25/180*np.pi)"
   ]
  },
  {
   "cell_type": "code",
   "execution_count": 43,
   "metadata": {},
   "outputs": [],
   "source": [
    "IR_Kewee_distance = 80 # km\n",
    "\n",
    "GSF_IR_limb_length = IR_Kewee_distance*np.cos(15/180*np.pi) - IR_Kewee_distance*np.sin(15/180*np.pi)*np.tan(65/180*np.pi)\n",
    "GSF_Kewee_limb_length = IR_Kewee_distance*np.sin(15/180*np.pi)/np.cos(65/180*np.pi)"
   ]
  },
  {
   "cell_type": "code",
   "execution_count": 44,
   "metadata": {},
   "outputs": [],
   "source": [
    "GSF_IR_limb_V = GSF_IR_ortho_area*GSF_IR_limb_length\n",
    "GSF_Kewee_limb_V = GSF_Kewee_ortho_area*GSF_Kewee_limb_length"
   ]
  },
  {
   "cell_type": "code",
   "execution_count": 45,
   "metadata": {},
   "outputs": [
    {
     "name": "stdout",
     "output_type": "stream",
     "text": [
      "estimated GSF volume: 1740.0\n"
     ]
    }
   ],
   "source": [
    "print('estimated GSF volume:', round(GSF_IR_limb_V+GSF_Kewee_limb_V,0))"
   ]
  },
  {
   "cell_type": "code",
   "execution_count": null,
   "metadata": {},
   "outputs": [],
   "source": []
  }
 ],
 "metadata": {
  "kernelspec": {
   "display_name": "Python 3",
   "language": "python",
   "name": "python3"
  },
  "language_info": {
   "codemirror_mode": {
    "name": "ipython",
    "version": 3
   },
   "file_extension": ".py",
   "mimetype": "text/x-python",
   "name": "python",
   "nbconvert_exporter": "python",
   "pygments_lexer": "ipython3",
   "version": "3.7.6"
  }
 },
 "nbformat": 4,
 "nbformat_minor": 4
}
