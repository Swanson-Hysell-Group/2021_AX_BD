{
 "cells": [
  {
   "cell_type": "markdown",
   "metadata": {},
   "source": [
    "# Notebook for Beaver River diabase and anorthosite xenoliths U-Pb geochronology analyses"
   ]
  },
  {
   "cell_type": "code",
   "execution_count": 1,
   "metadata": {},
   "outputs": [],
   "source": [
    "import matplotlib\n",
    "import numpy as np\n",
    "import pandas as pd\n",
    "\n",
    "import pmagpy.pmag as pmag\n",
    "import matplotlib.pyplot as plt\n",
    "\n",
    "%matplotlib inline\n",
    "%config InlineBackend.figure_format='retina'"
   ]
  },
  {
   "cell_type": "markdown",
   "metadata": {},
   "source": [
    "# Beaver Bay Complex geochronology\n",
    "\n",
    "New U-Pb dates developed from Beaver Bay Complex intrusive rocks can be compared to U-Pb dates developed from Midcontinent Rift volcanics and published in:\n",
    "\n",
    "Swanson-Hysell, N.L., Ramenzani, J., Fairchild, L.M. and Rose, I., 2019, **Failed rifting and fast drifting: Midcontinent Rift development, Laurentia's rapid motion and the driver of Grenvillian orogenesis**, *Geological Society of America Bulletin*, doi:10.1130/B31944.1.\n",
    "\n",
    "Swanson-Hysell, N. L., Hoaglund, S. A., Crowley, J. L., Schmitz, M. D., Zhang, Y., & Miller Jr, J. D. (2021). **Rapid emplacement of massive Duluth Complex intrusions within the Midcontinent Rift**"
   ]
  },
  {
   "cell_type": "markdown",
   "metadata": {},
   "source": [
    "## Define function to generate date bar plot"
   ]
  },
  {
   "cell_type": "code",
   "execution_count": 2,
   "metadata": {
    "jupyter": {
     "source_hidden": true
    }
   },
   "outputs": [],
   "source": [
    "def plot_dates(zircon_means, zircon_2sigmas, include, \n",
    "               sample_means, sample_2sigmas, colors, labels,\n",
    "               legend=True, figsize=None, ylim=None, lineweight=None, \n",
    "               bbox_to_anchor=None, plot_zircons=True):\n",
    "    \"\"\"\n",
    "    Make a date distribution plot.\n",
    "    \n",
    "    inputs:\n",
    "    - zircon_means = list of numpy arrays containing mean dates (each array being a sample)\n",
    "    - zircon_2sigmas = list of numpy arrays containing 2sigmas (each array being a sample)\n",
    "    - include = list of 'yes' or 'no' array for inclusion in mean (each array being a sample)\n",
    "    - sample_means = list of sample mean dates (one per sample)\n",
    "    - sample_2sigmas = list of sample 2sigmas (one per sample)\n",
    "    - colors = list of colors (one per sample)\n",
    "    - labels = list of labels (one per sample)\n",
    "    - figsize = figure size (optional)\n",
    "    - ylim = ylim (optional)\n",
    "    - linewidth = zircon linewidth (optional)\n",
    "    - bbox_to_anchor = for the legend (optional)\n",
    "    \"\"\"\n",
    "    # formatting constants\n",
    "    zircon_spacing = 0.9\n",
    "    sample_spacing = 5.75 - zircon_spacing\n",
    "    start_x = 3\n",
    "    yes_alpha = 0.8\n",
    "    no_alpha = 0.2\n",
    "    x_positions = []\n",
    "    if lineweight==None:\n",
    "        lineweight=3\n",
    "    \n",
    "    # initialize current x\n",
    "    current_x = start_x\n",
    "    \n",
    "    # number of samples\n",
    "    n_samples = len(zircon_means)\n",
    "    \n",
    "    # plot\n",
    "    if figsize == None:\n",
    "        fig, ax = plt.subplots()\n",
    "    else:\n",
    "        fig, ax = plt.subplots(figsize=figsize)\n",
    "    \n",
    "    if plot_zircons == False:\n",
    "        for i in range(n_samples):\n",
    "            sample_width = 20\n",
    "\n",
    "            rectangle = matplotlib.patches.Rectangle((current_x-1, sample_means[i]-sample_2sigmas[i]),\\\n",
    "                                                     sample_width+1, sample_2sigmas[i]*2, color='lightgrey')\n",
    "            ax.add_patch(rectangle)\n",
    "\n",
    "            # the mean age\n",
    "\n",
    "            ax.hlines(sample_means[i], current_x-1, current_x+sample_width)\n",
    "            \n",
    "            current_x = current_x + 25\n",
    "        \n",
    "    if plot_zircons == True:\n",
    "        # iterate over each sample\n",
    "        for i in range(n_samples):\n",
    "\n",
    "            # number of zircons in sample\n",
    "            n_zircons = len(zircon_means[i])\n",
    "\n",
    "            # sample width\n",
    "            sample_width = zircon_spacing*n_zircons\n",
    "\n",
    "            rectangle = matplotlib.patches.Rectangle((current_x-1, sample_means[i]-sample_2sigmas[i]),\\\n",
    "                                                     sample_width+1, sample_2sigmas[i]*2, color='lightgrey')\n",
    "            ax.add_patch(rectangle)\n",
    "\n",
    "            # the mean age\n",
    "\n",
    "            ax.hlines(sample_means[i], current_x-1, current_x+sample_width)\n",
    "\n",
    "            # legend control\n",
    "            marked = False\n",
    "\n",
    "            # iterate over each zircon\n",
    "            for j in range(n_zircons):\n",
    "\n",
    "                if marked:\n",
    "                    if include[i][j] == 'yes':\n",
    "                        ax.vlines(current_x, zircon_means[i][j]-zircon_2sigmas[i][j], zircon_means[i][j]+zircon_2sigmas[i][j],\\\n",
    "                                  colors=colors[i], lw=lineweight, alpha=yes_alpha)\n",
    "                    else:\n",
    "                        ax.vlines(current_x, zircon_means[i][j]-zircon_2sigmas[i][j], zircon_means[i][j]+zircon_2sigmas[i][j],\\\n",
    "                                  colors=colors[i], lw=lineweight, alpha=no_alpha)\n",
    "                else:\n",
    "                    if include[i][j] == 'yes':\n",
    "                        ax.vlines(current_x, zircon_means[i][j]-zircon_2sigmas[i][j], zircon_means[i][j]+zircon_2sigmas[i][j],\\\n",
    "                                  colors=colors[i], lw=lineweight, alpha=yes_alpha, label=labels[i])\n",
    "                        marked = True\n",
    "                    else:\n",
    "                        ax.vlines(current_x, zircon_means[i][j]-zircon_2sigmas[i][j], zircon_means[i][j]+zircon_2sigmas[i][j],\\\n",
    "                                  colors=colors[i], lw=lineweight, alpha=no_alpha)\n",
    "\n",
    "                # tick the x to the next zircon\n",
    "                current_x = current_x + zircon_spacing\n",
    "\n",
    "            # tick the x to the next sample\n",
    "            current_x = current_x + sample_spacing\n",
    "            x_positions.append(current_x-sample_spacing)\n",
    "    \n",
    "    # prettify\n",
    "    ax.invert_yaxis()\n",
    "    ax.set_ylabel('$^{206}$Pb/$^{238}$U date (Ma)',fontsize=13)\n",
    "    if legend == True:\n",
    "        if bbox_to_anchor == None:\n",
    "            ax.legend(bbox_to_anchor=(1.8,1), fontsize=12)\n",
    "        else:\n",
    "            ax.legend(bbox_to_anchor=bbox_to_anchor, fontsize=12)\n",
    "    if ylim != None:\n",
    "        ax.set_ylim(ylim)\n",
    "        \n",
    "    return fig, ax, x_positions"
   ]
  },
  {
   "cell_type": "code",
   "execution_count": 3,
   "metadata": {
    "jupyter": {
     "source_hidden": true
    }
   },
   "outputs": [],
   "source": [
    "def weighted_mean(dates,sigma):\n",
    "    \n",
    "    \"\"\"\n",
    "    calculated a weighted mean from dates and uncertainities\n",
    "    \n",
    "    input parameters\n",
    "    ----------------\n",
    "    dates: date of individual grains\n",
    "    sigma: 1σ uncertainty associated with dates\n",
    "    \n",
    "    returns\n",
    "    ----------------\n",
    "    weighted_mean, 1σ uncertainty\n",
    "    \n",
    "    \"\"\"\n",
    "    \n",
    "    inverse_variance=[]\n",
    "    alpha=[]\n",
    "    weighted_mean_calc=[]\n",
    "    \n",
    "    for n in range(0,len(dates)):\n",
    "        value = 1/sigma[n]**2\n",
    "        inverse_variance.append(value)\n",
    "    inverse_variance_sum = np.sum(inverse_variance)\n",
    "    \n",
    "    for n in range(0,len(dates)):\n",
    "        value = (1/sigma[n]**2)/inverse_variance_sum\n",
    "        alpha.append(value)\n",
    "        \n",
    "    #calculate the weights for each date    \n",
    "    for n in range(0,len(dates)):\n",
    "        value = alpha[n]*dates[n]\n",
    "        weighted_mean_calc.append(value)\n",
    "    \n",
    "    #take the sum of the weights multiplied by the dates to get the weighted\n",
    "    #mean (equation 64 of McLean et al., 2011)\n",
    "    weighted_mean = np.sum(weighted_mean_calc)\n",
    "    \n",
    "    #the variance of the weighted mean is simply the inverse of the sum of\n",
    "    #the inverse variances of each date (equation 66 of McLean et al., 2011)\n",
    "    variance = 1/inverse_variance_sum\n",
    "    \n",
    "    weighted_mean_sigma = np.sqrt(variance)\n",
    "    \n",
    "    n = len(dates)\n",
    "    \n",
    "    print('The weighted mean is:')\n",
    "\n",
    "    print(weighted_mean)\n",
    "\n",
    "    print('With a 2sigma error of:')\n",
    "\n",
    "    print(weighted_mean_sigma)\n",
    "    \n",
    "    print('N=' )\n",
    "    print(n)\n",
    "    \n",
    "    return weighted_mean, 2*weighted_mean_sigma"
   ]
  },
  {
   "cell_type": "markdown",
   "metadata": {},
   "source": [
    "## Import individual zircon dates for the date bar plot"
   ]
  },
  {
   "cell_type": "code",
   "execution_count": 4,
   "metadata": {},
   "outputs": [],
   "source": [
    "HCT = pd.read_excel('../data/Geochron_published//CAIDTIMS_DataTable_032420.xls',\n",
    "                      header=49,nrows=11,names=['zircon','Th_U','206Pb_mol','206Pb_mol%','Pb*/Pbc',\n",
    "                                              'Pbc','206Pb/204Pb','','','','','','','','','','',\n",
    "                                              '207Pb/206Pb_date','207Pb/206Pb_date_2sigma',\n",
    "                                              '207Pb/235U_date','207Pb/235U_date_2sigma',\n",
    "                                              '206Pb/238U_date','206Pb/238U_date_2sigma'])\n",
    "HCT['include'] = pd.Series(data=['yes','yes','yes','yes','no','no','no','no','no','no','no'])"
   ]
  },
  {
   "cell_type": "code",
   "execution_count": 5,
   "metadata": {},
   "outputs": [],
   "source": [
    "WLFG = pd.read_excel('../data/Geochron_published/CAIDTIMS_DataTable_032420.xls',\n",
    "                      header=62,nrows=8,names=['zircon','Th_U','206Pb_mol','206Pb_mol%','Pb*/Pbc',\n",
    "                                              'Pbc','206Pb/204Pb','','','','','','','','','','',\n",
    "                                              '207Pb/206Pb_date','207Pb/206Pb_date_2sigma',\n",
    "                                              '207Pb/235U_date','207Pb/235U_date_2sigma',\n",
    "                                              '206Pb/238U_date','206Pb/238U_date_2sigma'])\n",
    "WLFG['include'] = pd.Series(data=['yes','yes','yes','yes','yes','no','no','no'])"
   ]
  },
  {
   "cell_type": "code",
   "execution_count": 6,
   "metadata": {},
   "outputs": [],
   "source": [
    "NSVG_PR = pd.read_csv('../Data/Geochron_published/NSVG-PR_dates.csv')\n",
    "NSVG_PR.sort_values('206Pb/238U', inplace=True, ascending=False)\n",
    "NSVG_PR.reset_index(inplace=True)\n",
    "\n",
    "PLV_GS1 = pd.read_csv('../Data/Geochron_published/PLV-GS1_dates.csv')\n",
    "PLV_GS1.sort_values('206Pb/238U', inplace=True, ascending=False)\n",
    "PLV_GS1.reset_index(inplace=True)\n",
    "\n",
    "BBC_SBA1 = pd.read_csv('../Data/Geochron_published/BBC-SBA1_dates.csv')\n",
    "BBC_SBA1.sort_values('206Pb/238U', inplace=True, ascending=False)\n",
    "BBC_SBA1.reset_index(inplace=True)"
   ]
  },
  {
   "cell_type": "code",
   "execution_count": 7,
   "metadata": {},
   "outputs": [],
   "source": [
    "MS99033 = pd.read_csv('../data/Geochron_new/MS99033.csv')\n",
    "MS99033.sort_values('206Pb/238U', inplace=True, ascending=False)\n",
    "MS99033.reset_index(inplace=True)"
   ]
  },
  {
   "cell_type": "markdown",
   "metadata": {},
   "source": [
    "## check MS99033 weighted mean calculation"
   ]
  },
  {
   "cell_type": "code",
   "execution_count": 8,
   "metadata": {},
   "outputs": [
    {
     "name": "stdout",
     "output_type": "stream",
     "text": [
      "The weighted mean is:\n",
      "1091.8253210673477\n",
      "With a 2sigma error of:\n",
      "0.21159466422228637\n",
      "N=\n",
      "6\n"
     ]
    },
    {
     "data": {
      "text/plain": [
       "(1091.8253210673477, 0.42318932844457274)"
      ]
     },
     "execution_count": 8,
     "metadata": {},
     "output_type": "execute_result"
    }
   ],
   "source": [
    "weighted_mean(MS99033['206Pb/238U'].tolist()[:6], MS99033['206Pb/238U_2sigma'].tolist()[:6])"
   ]
  },
  {
   "cell_type": "code",
   "execution_count": 10,
   "metadata": {},
   "outputs": [],
   "source": [
    "BBC_U_Pb_zircon_dates = [\n",
    "    NSVG_PR['206Pb/238U'].tolist(),\n",
    "    WLFG['206Pb/238U_date'].tolist(),\n",
    "                         MS99033['206Pb/238U'].tolist(),\n",
    "                         BBC_SBA1['206Pb/238U'].tolist(),\n",
    "                         PLV_GS1['206Pb/238U'].tolist()\n",
    "                        ]\n",
    "\n",
    "BBC_U_Pb_zircon_2sigmas = [\n",
    "    NSVG_PR['206Pb/238U_2sigma'].tolist(), \n",
    "    WLFG['206Pb/238U_date_2sigma'].tolist(),\n",
    "                           MS99033['206Pb/238U_2sigma'].tolist(),\n",
    "                           BBC_SBA1['206Pb/238U_2sigma'].tolist(), \n",
    "                           PLV_GS1['206Pb/238U_2sigma'].tolist()\n",
    "]\n",
    "\n",
    "BBC_U_Pb_zircon_include = [\n",
    "    NSVG_PR['include'].tolist(),\n",
    "    WLFG['include'].tolist(),\n",
    "    MS99033['include'].tolist(), \n",
    "    BBC_SBA1['include'].tolist(),\n",
    "    PLV_GS1['include'].tolist()\n",
    "]\n",
    "\n",
    "NSVG_PR_mean = 1093.94\n",
    "MS99033_mean = 1091.83\n",
    "BBC_SBA1_mean = 1091.61\n",
    "WLFG_mean = 1091.63\n",
    "PLV_GS1_mean = 1091.59\n",
    "\n",
    "BBC_U_Pb_sample_means = [\n",
    "    NSVG_PR_mean, WLFG_mean,\n",
    "                         MS99033_mean, \n",
    "                         BBC_SBA1_mean, \n",
    "                         PLV_GS1_mean\n",
    "                        ]\n",
    "\n",
    "NSVG_PR_2sigma = 0.28\n",
    "MS99033_2sigma = 0.21\n",
    "BBC_SBA1_2sigma = 0.14\n",
    "WLFG_2sigma = 0.35\n",
    "PLV_GS1_2sigma = 0.27\n",
    "\n",
    "BBC_U_Pb_sample_2sigmas = [\n",
    "    NSVG_PR_2sigma, \n",
    "    WLFG_2sigma, \n",
    "                           MS99033_2sigma,\n",
    "                           BBC_SBA1_2sigma, \n",
    "                           PLV_GS1_2sigma\n",
    "]\n",
    "\n",
    "BBC_colors = [\n",
    "    'green',\n",
    "    'mediumaquamarine',\n",
    "              'darkorange',\n",
    "              'deeppink', \n",
    "              'purple'\n",
    "]\n",
    "\n",
    "BBC_labels = [\n",
    "    'Palisade Rhyolite',\n",
    "    'Wilson Lake ferrogabbro',\n",
    "              'Beaver River anorthosite',\n",
    "              'Silver Bay Aplite', \n",
    "              'Greenstone Flow'\n",
    "]"
   ]
  },
  {
   "cell_type": "code",
   "execution_count": 11,
   "metadata": {},
   "outputs": [
    {
     "data": {
      "text/html": [
       "<div>\n",
       "<style scoped>\n",
       "    .dataframe tbody tr th:only-of-type {\n",
       "        vertical-align: middle;\n",
       "    }\n",
       "\n",
       "    .dataframe tbody tr th {\n",
       "        vertical-align: top;\n",
       "    }\n",
       "\n",
       "    .dataframe thead th {\n",
       "        text-align: right;\n",
       "    }\n",
       "</style>\n",
       "<table border=\"1\" class=\"dataframe\">\n",
       "  <thead>\n",
       "    <tr style=\"text-align: right;\">\n",
       "      <th></th>\n",
       "      <th>labels</th>\n",
       "      <th>polarity_colors</th>\n",
       "      <th>U_Pb_zircon_dates</th>\n",
       "      <th>U_Pb_zircon_2sigmas</th>\n",
       "      <th>U_Pb_zircon_include</th>\n",
       "      <th>U_Pb_sample_mean</th>\n",
       "      <th>U_Pb_sample_2sigma</th>\n",
       "    </tr>\n",
       "  </thead>\n",
       "  <tbody>\n",
       "    <tr>\n",
       "      <th>0</th>\n",
       "      <td>Palisade Rhyolite</td>\n",
       "      <td>green</td>\n",
       "      <td>[1096.29, 1094.66, 1094.47, 1094.34, 1094.19, ...</td>\n",
       "      <td>[1.53, 0.69, 0.77, 0.7, 1.14, 1.09, 0.87, 0.49]</td>\n",
       "      <td>[no, yes, yes, yes, yes, yes, yes, yes]</td>\n",
       "      <td>1093.94</td>\n",
       "      <td>0.28</td>\n",
       "    </tr>\n",
       "    <tr>\n",
       "      <th>1</th>\n",
       "      <td>Wilson Lake ferrogabbro</td>\n",
       "      <td>mediumaquamarine</td>\n",
       "      <td>[1091.851708622979, 1091.8099974724937, 1091.6...</td>\n",
       "      <td>[0.4925351441420653, 1.3504666868452266, 1.145...</td>\n",
       "      <td>[yes, yes, yes, yes, yes, no, no, no]</td>\n",
       "      <td>1091.63</td>\n",
       "      <td>0.35</td>\n",
       "    </tr>\n",
       "    <tr>\n",
       "      <th>2</th>\n",
       "      <td>Beaver River anorthosite</td>\n",
       "      <td>darkorange</td>\n",
       "      <td>[1091.971169, 1091.963826, 1091.940206, 1091.8...</td>\n",
       "      <td>[0.774118697, 0.45739525, 0.459814406, 0.55184...</td>\n",
       "      <td>[yes, yes, yes, yes, yes, yes, no, no]</td>\n",
       "      <td>1091.83</td>\n",
       "      <td>0.21</td>\n",
       "    </tr>\n",
       "    <tr>\n",
       "      <th>3</th>\n",
       "      <td>Silver Bay Aplite</td>\n",
       "      <td>deeppink</td>\n",
       "      <td>[1091.766875, 1091.6649869999999, 1091.482674,...</td>\n",
       "      <td>[0.318121361, 0.298447953, 0.354731588, 0.3789...</td>\n",
       "      <td>[yes, yes, yes, yes, yes, yes]</td>\n",
       "      <td>1091.61</td>\n",
       "      <td>0.14</td>\n",
       "    </tr>\n",
       "    <tr>\n",
       "      <th>4</th>\n",
       "      <td>Greenstone Flow</td>\n",
       "      <td>purple</td>\n",
       "      <td>[1092.64, 1091.71, 1091.65, 1091.62, 1091.32, ...</td>\n",
       "      <td>[0.94, 0.52, 0.75, 0.95, 0.67, 0.49]</td>\n",
       "      <td>[yes, yes, yes, yes, yes, yes]</td>\n",
       "      <td>1091.59</td>\n",
       "      <td>0.27</td>\n",
       "    </tr>\n",
       "  </tbody>\n",
       "</table>\n",
       "</div>"
      ],
      "text/plain": [
       "                     labels   polarity_colors  \\\n",
       "0         Palisade Rhyolite             green   \n",
       "1   Wilson Lake ferrogabbro  mediumaquamarine   \n",
       "2  Beaver River anorthosite        darkorange   \n",
       "3         Silver Bay Aplite          deeppink   \n",
       "4           Greenstone Flow            purple   \n",
       "\n",
       "                                   U_Pb_zircon_dates  \\\n",
       "0  [1096.29, 1094.66, 1094.47, 1094.34, 1094.19, ...   \n",
       "1  [1091.851708622979, 1091.8099974724937, 1091.6...   \n",
       "2  [1091.971169, 1091.963826, 1091.940206, 1091.8...   \n",
       "3  [1091.766875, 1091.6649869999999, 1091.482674,...   \n",
       "4  [1092.64, 1091.71, 1091.65, 1091.62, 1091.32, ...   \n",
       "\n",
       "                                 U_Pb_zircon_2sigmas  \\\n",
       "0    [1.53, 0.69, 0.77, 0.7, 1.14, 1.09, 0.87, 0.49]   \n",
       "1  [0.4925351441420653, 1.3504666868452266, 1.145...   \n",
       "2  [0.774118697, 0.45739525, 0.459814406, 0.55184...   \n",
       "3  [0.318121361, 0.298447953, 0.354731588, 0.3789...   \n",
       "4               [0.94, 0.52, 0.75, 0.95, 0.67, 0.49]   \n",
       "\n",
       "                       U_Pb_zircon_include  U_Pb_sample_mean  \\\n",
       "0  [no, yes, yes, yes, yes, yes, yes, yes]           1093.94   \n",
       "1    [yes, yes, yes, yes, yes, no, no, no]           1091.63   \n",
       "2   [yes, yes, yes, yes, yes, yes, no, no]           1091.83   \n",
       "3           [yes, yes, yes, yes, yes, yes]           1091.61   \n",
       "4           [yes, yes, yes, yes, yes, yes]           1091.59   \n",
       "\n",
       "   U_Pb_sample_2sigma  \n",
       "0                0.28  \n",
       "1                0.35  \n",
       "2                0.21  \n",
       "3                0.14  \n",
       "4                0.27  "
      ]
     },
     "execution_count": 11,
     "metadata": {},
     "output_type": "execute_result"
    }
   ],
   "source": [
    "BBC_geochron = pd.DataFrame({'labels': BBC_labels, \n",
    "                      'polarity_colors' : BBC_colors, \n",
    "                      'U_Pb_zircon_dates': BBC_U_Pb_zircon_dates, \n",
    "                      'U_Pb_zircon_2sigmas': BBC_U_Pb_zircon_2sigmas,\n",
    "                      'U_Pb_zircon_include': BBC_U_Pb_zircon_include,\n",
    "                      'U_Pb_sample_mean': BBC_U_Pb_sample_means,\n",
    "                      'U_Pb_sample_2sigma': BBC_U_Pb_sample_2sigmas})\n",
    "\n",
    "# BBC_geochron.to_csv('../data/compiled_BBC_geochron.csv')\n",
    "# geochron_data = pd.read_csv('../data/compiled_BBC_geochron.csv')\n",
    "BBC_geochron"
   ]
  },
  {
   "cell_type": "markdown",
   "metadata": {},
   "source": [
    "## Generate geochron figure"
   ]
  },
  {
   "cell_type": "code",
   "execution_count": 12,
   "metadata": {},
   "outputs": [
    {
     "data": {
      "image/png": "[encoded data removed]",
      "text/plain": [
       "<Figure size 864x360 with 1 Axes>"
      ]
     },
     "metadata": {
      "image/png": {
       "height": 293,
       "width": 736
      },
      "needs_background": "light"
     },
     "output_type": "display_data"
    }
   ],
   "source": [
    "fig, ax, x_positions = plot_dates(BBC_geochron.U_Pb_zircon_dates, BBC_geochron.U_Pb_zircon_2sigmas, \n",
    "                                  BBC_geochron.U_Pb_zircon_include, \n",
    "                                  BBC_geochron.U_Pb_sample_mean, BBC_geochron.U_Pb_sample_2sigma, \n",
    "                                  BBC_colors, BBC_labels, legend=False, figsize=(12,5))\n",
    "\n",
    "max_x_value = 60\n",
    "ax.set_ylim(1097,1088)\n",
    "ax.set_xlim(0,max_x_value)\n",
    "ax.set_xticks([])\n",
    "ax.set_yticks([1088, 1090, 1092, 1094, 1096])\n",
    "\n",
    "ax.text(x_positions[0],BBC_U_Pb_sample_means[0]-2,'Palisade rhyolite \\n1093.94 $\\pm$ 0.28 Ma',size='10',horizontalalignment='right',\n",
    "        verticalalignment='bottom',multialignment='center')\n",
    "ax.text(x_positions[1]+1.,BBC_U_Pb_sample_means[1]+3., 'Wilson Lake \\n ferrogabbro intrusion \\n1091.63 $\\pm$ 0.35 Ma',size='10',horizontalalignment='right',\n",
    "        verticalalignment='bottom',multialignment='center')\n",
    "ax.text(x_positions[2]+1.,BBC_U_Pb_sample_means[3]-1.45,'Silver Bay \\n anorthosite \\n1091.83 $\\pm$ 0.21 Ma',size='10',horizontalalignment='right',\n",
    "        verticalalignment='bottom',multialignment='center')\n",
    "ax.text(x_positions[3]+1.,BBC_U_Pb_sample_means[2]-1.,'Silver Bay \\n aplite intrusion \\n1091.61 $\\pm$ 0.14 Ma',size='10',horizontalalignment='right',\n",
    "        verticalalignment='bottom',multialignment='center')\n",
    "ax.text(x_positions[4]+1.,BBC_U_Pb_sample_means[4]-1.5,'Greenstone Flow \\n1091.59 $\\pm$ 0.27 Ma',size='10',horizontalalignment='right',\n",
    "        verticalalignment='bottom',multialignment='center')\n",
    "\n",
    "Portage_Lake_N = matplotlib.patches.Rectangle((max_x_value-2.55, 1070), 2.5, 29.9, color='blue')\n",
    "ax.add_patch(Portage_Lake_N)\n",
    "ax.text(max_x_value-2, 1090,'N',size='20',color='white',verticalalignment='center')\n",
    "# ax.text(158.5, 1094,'Portage Lake\\nNormal\\nPolarity Zone',size='11',horizontalalignment='right')\n",
    "\n",
    "plt.savefig('code_output/geochron/BBC_dates.pdf',bbox_inches='tight')\n",
    "plt.show(fig)"
   ]
  },
  {
   "cell_type": "code",
   "execution_count": 16,
   "metadata": {},
   "outputs": [],
   "source": [
    "n_MC = 100000\n",
    "diabase_ages = []\n",
    "\n",
    "for n in range(0,n_MC):\n",
    "    max_age = np.random.normal(MS99033_mean,MS99033_2sigma/2)\n",
    "    min_age = np.random.normal(BBC_SBA1_mean,BBC_SBA1_2sigma/2)\n",
    "    diabase_age = np.random.uniform(min_age,max_age)\n",
    "    diabase_ages.append(diabase_age)"
   ]
  },
  {
   "cell_type": "code",
   "execution_count": 17,
   "metadata": {},
   "outputs": [
    {
     "data": {
      "image/png": "[encoded data removed]",
      "text/plain": [
       "<Figure size 432x288 with 1 Axes>"
      ]
     },
     "metadata": {
      "image/png": {
       "height": 248,
       "width": 394
      },
      "needs_background": "light"
     },
     "output_type": "display_data"
    }
   ],
   "source": [
    "diabase_age_upper = np.percentile(diabase_ages,97.5)\n",
    "diabase_age_mid = np.percentile(diabase_ages,50)\n",
    "diabase_age_lower = np.percentile(diabase_ages,2.5)\n",
    "\n",
    "plt.hist(diabase_ages,bins=100)\n",
    "plt.vlines(diabase_age_lower,0,15000,color='C1',zorder=1000)\n",
    "plt.vlines(diabase_age_upper,0,15000,color='C1',zorder=1000)\n",
    "plt.show()"
   ]
  },
  {
   "cell_type": "code",
   "execution_count": 19,
   "metadata": {},
   "outputs": [
    {
     "data": {
      "text/plain": [
       "(1091.5, 1091.9)"
      ]
     },
     "execution_count": 19,
     "metadata": {},
     "output_type": "execute_result"
    }
   ],
   "source": [
    "round(diabase_age_lower,1), round(diabase_age_upper,1)"
   ]
  },
  {
   "cell_type": "code",
   "execution_count": null,
   "metadata": {},
   "outputs": [],
   "source": []
  }
 ],
 "metadata": {
  "kernelspec": {
   "display_name": "Python 3",
   "language": "python",
   "name": "python3"
  },
  "language_info": {
   "codemirror_mode": {
    "name": "ipython",
    "version": 3
   },
   "file_extension": ".py",
   "mimetype": "text/x-python",
   "name": "python",
   "nbconvert_exporter": "python",
   "pygments_lexer": "ipython3",
   "version": "3.7.6"
  }
 },
 "nbformat": 4,
 "nbformat_minor": 4
}
